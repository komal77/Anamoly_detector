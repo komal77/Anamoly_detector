{
 "cells": [
  {
   "cell_type": "markdown",
   "metadata": {},
   "source": [
    "<center><div class=\"panel panel-primary\" style=\"width:400px;\">\n",
    "      <div class=\"panel-heading\" style=\"font-size:20px;font-weight:bold;\"><center>ANOMALY / OUTLIER DETECTOR<center></div>\n",
    "          </div></center><h1>Below program will check for any anomaly or oulier in our data/list</h1>"
   ]
  },
  {
   "cell_type": "markdown",
   "metadata": {},
   "source": [
    "<div class=\"panel panel-success\">\n",
    "<div class=\"panel-heading\"style=\"font-size:16px;font-weight:bold;background-color:#E9967A;color:black;width:215px\">Lets import the libraries</div>\n",
    "</div>"
   ]
  },
  {
   "cell_type": "code",
   "execution_count": 1,
   "metadata": {},
   "outputs": [],
   "source": [
    "import numpy as np\n",
    "import matplotlib.pyplot as plt"
   ]
  },
  {
   "cell_type": "markdown",
   "metadata": {},
   "source": [
    "<div class=\"panel panel-success\">\n",
    "<div class=\"panel-heading\"style=\"font-size:16px;font-weight:bold;background-color:#E9967A;color:black;width:410px\">Below function will detect the outliers/anomalies</div>\n",
    "</div>"
   ]
  },
  {
   "cell_type": "code",
   "execution_count": 2,
   "metadata": {},
   "outputs": [],
   "source": [
    "def detect_outliers(data):  #Function to detect outlier based on MAD algorithm\n",
    "    #calculating mean and standard deviation \n",
    "    u = np.mean(data)\n",
    "    s = np.std(data)\n",
    "    filtered = []\n",
    "    #finding and plotting the points on graph\n",
    "    for e in data:\n",
    "        if (u - 2 * s < e < u + 2 * s):            \n",
    "            filtered.append(e)\n",
    "        else:\n",
    "            plt.plot(e,'ro')\n",
    "    plt.plot(filtered,'go')\n",
    "    return filtered"
   ]
  },
  {
   "cell_type": "markdown",
   "metadata": {},
   "source": [
    "<br><br><br>\n",
    "<div class=\"panel panel-success\">\n",
    "<div class=\"panel-heading\"style=\"font-size:16px;font-weight:bold;background-color:#E9967A;color:black;width:480px\">Lets Create a TestCase to check any anomalies in our List</div>\n",
    "</div>"
   ]
  },
  {
   "cell_type": "code",
   "execution_count": 3,
   "metadata": {},
   "outputs": [
    {
     "data": {
      "image/png": "[encoded data removed]",
      "text/plain": [
       "<matplotlib.figure.Figure at 0x7f7767abd710>"
      ]
     },
     "metadata": {},
     "output_type": "display_data"
    }
   ],
   "source": [
    "#Testcase 1\n",
    "our_list1 = [100,200,300,50,100,20,30,40,50,90,10,400000,500000]\n",
    "filtered_d = detect_outliers(our_list1)\n",
    "plt.title(\"Testcase 1\")\n",
    "plt.show()"
   ]
  },
  {
   "cell_type": "markdown",
   "metadata": {},
   "source": [
    "<div class=\"panel panel-success\">\n",
    "<div class=\"panel-heading\"style=\"font-size:18px;font-weight:bold;width:400px\">As We Can See <span style=\"color:red;\">Red Ones</span> are anomalies</div>\n",
    "</div>\n",
    "<br><br>\n",
    "\n"
   ]
  },
  {
   "cell_type": "markdown",
   "metadata": {},
   "source": [
    "<div class=\"panel panel-success\">\n",
    "<div class=\"panel-heading\"style=\"font-size:18px;font-weight:bold;background-color:#E9967A;color:black;width:320px\">More testcases with their outputs</div>\n",
    "</div>"
   ]
  },
  {
   "cell_type": "code",
   "execution_count": 4,
   "metadata": {},
   "outputs": [
    {
     "data": {
      "image/png": "[encoded data removed]",
      "text/plain": [
       "<matplotlib.figure.Figure at 0x7f7767abd358>"
      ]
     },
     "metadata": {},
     "output_type": "display_data"
    }
   ],
   "source": [
    "#Testcase 2\n",
    "our_list2 = [1,2,3,4,6,3,8,40,20,10,12,32,80,10,9,5,3,50,300,200]\n",
    "filtered_d = detect_outliers(our_list2)\n",
    "plt.title(\"Testcase 2\")\n",
    "plt.show()"
   ]
  },
  {
   "cell_type": "code",
   "execution_count": null,
   "metadata": {},
   "outputs": [],
   "source": []
  },
  {
   "cell_type": "code",
   "execution_count": null,
   "metadata": {},
   "outputs": [],
   "source": []
  },
  {
   "cell_type": "code",
   "execution_count": null,
   "metadata": {},
   "outputs": [],
   "source": []
  }
 ],
 "metadata": {
  "kernelspec": {
   "display_name": "Python 3",
   "language": "python",
   "name": "python3"
  },
  "language_info": {
   "codemirror_mode": {
    "name": "ipython",
    "version": 3
   },
   "file_extension": ".py",
   "mimetype": "text/x-python",
   "name": "python",
   "nbconvert_exporter": "python",
   "pygments_lexer": "ipython3",
   "version": "3.6.4"
  }
 },
 "nbformat": 4,
 "nbformat_minor": 2
}
